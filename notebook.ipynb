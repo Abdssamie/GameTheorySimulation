{
 "cells": [
  {
   "cell_type": "code",
   "id": "initial_id",
   "metadata": {
    "collapsed": true,
    "ExecuteTime": {
     "end_time": "2024-11-20T12:28:47.699207Z",
     "start_time": "2024-11-20T12:28:47.650931Z"
    }
   },
   "source": [
    "import numpy as np\n",
    "from tqdm import tqdm\n",
    "from strategies import TitForTat, Random\n",
    "\n",
    "\n",
    "class Simulation:\n",
    "    payoffs_symbols = [\"R\", \"S\", \"T\", \"P\"]\n",
    "    payoff_matrix = [3, 5, 5, 1]\n",
    "    payoffs = dict(zip(payoffs_symbols, payoff_matrix))\n",
    "\n",
    "    def __init__(self, rounds, players):\n",
    "        self.players = players\n",
    "        self.rounds = rounds\n",
    "\n",
    "\n",
    "class Game:\n",
    "    payoffs_symbols = [\"R\", \"S\", \"T\", \"P\"]\n",
    "    payoff_matrix = [3, 0, 5, 1]\n",
    "    payoffs = dict(zip(payoffs_symbols, payoff_matrix))\n",
    "\n",
    "    def __init__(self, player_1, player_2, rounds):\n",
    "        self.player_1 = player_1\n",
    "        self.player_2 = player_2\n",
    "        self.rounds = rounds\n",
    "        self.p1_score = 0\n",
    "        self.p2_score = 0\n",
    "        self.p1_scores = np.zeros(self.rounds, dtype=int)\n",
    "        self.p2_scores = np.zeros(self.rounds, dtype=int)\n",
    "        self.p1_strat_name = self.player_1.name\n",
    "        self.p2_strat_name = self.player_2.name\n",
    "        self.winner = None\n",
    "\n",
    "    def start_game(self):\n",
    "        rounds_results = np.zeros((2, self.rounds,), dtype=int)\n",
    "\n",
    "        print(f\"Starting game. {self.player_1.name} vs {self.player_2.name} for {self.rounds} rounds\")\n",
    "        for index in tqdm(range(self.rounds),\n",
    "                          desc=\"Running game: {}\"):\n",
    "            player_1_choice = self.player_1.make_choice(rounds_results=rounds_results, current_round=index)\n",
    "            player_2_choice = self.player_2.make_choice(rounds_results=rounds_results, current_round=index)\n",
    "            rounds_results[:, index] = [player_1_choice, player_2_choice]\n",
    "\n",
    "            if player_1_choice == 1 == player_2_choice:\n",
    "                self.p1_scores[index], self.p2_scores[index] = self.payoffs[\"R\"], self.payoffs[\"R\"]\n",
    "\n",
    "            elif player_1_choice == 0 == player_2_choice:\n",
    "                self.p1_scores[index], self.p2_scores[index] = self.payoffs[\"P\"], self.payoffs[\"P\"]\n",
    "\n",
    "            elif player_1_choice == 1 and 0 == player_2_choice:\n",
    "                self.p1_scores[index], self.p2_scores[index] = self.payoffs[\"S\"], self.payoffs[\"T\"]\n",
    "\n",
    "            else:\n",
    "                self.p1_scores[index], self.p2_scores[index] = self.payoffs[\"T\"], self.payoffs[\"S\"]\n",
    "\n",
    "        self.p1_score = self.p1_scores.sum()\n",
    "        self.p2_score = self.p2_scores.sum()\n",
    "\n",
    "        if self.p1_score > self.p2_score:\n",
    "            winner = self.p1_strat_name\n",
    "            print(\n",
    "                f\"Player 1  with strategy {winner} has one with a final score of {self.p1_score},\"\n",
    "                f\" and a scoring board: \\n{self.p1_scores}\\n\"\n",
    "                f\"While Player 2 with strategy{self.p2_strat_name} lost with a score of {self.p2_score},\"\n",
    "                f\" and a scoring board: \\n{self.p2_scores}\")\n",
    "        elif self.p1_score < self.p2_score:\n",
    "            winner = self.p2_strat_name\n",
    "            print(\n",
    "                f\"Player 2  with strategy {winner} has one with a final score of {self.p2_score},\"\n",
    "                f\" and a scoring board: \\n{self.p2_scores}\\n\"\n",
    "                f\"While Player 1 with strategy{self.p1_strat_name} lost with a score of {self.p1_score},\"\n",
    "                f\" and a scoring board: \\n{self.p1_scores}\")\n",
    "        else:\n",
    "            print(\"It's a draw!\")\n",
    "\n",
    "\n",
    "number_of_rounds = 9999\n",
    "TFT_player = TitForTat(rounds=number_of_rounds)\n",
    "random_strategy_player = Random(rounds=number_of_rounds)\n",
    "test_game = Game(player_1=TFT_player, player_2=random_strategy_player, rounds=number_of_rounds)\n",
    "test_game.start_game()"
   ],
   "outputs": [
    {
     "name": "stdout",
     "output_type": "stream",
     "text": [
      "Starting game. TitForTat vs Random for 9999 rounds\n"
     ]
    },
    {
     "name": "stderr",
     "output_type": "stream",
     "text": [
      "Running game: {}: 100%|██████████| 9999/9999 [00:00<00:00, 437304.84it/s]"
     ]
    },
    {
     "name": "stdout",
     "output_type": "stream",
     "text": [
      "Player 2  with strategy Random has one with a final score of 22449, and a scoring board: \n",
      "[3 3 5 ... 3 5 1]\n",
      "While Player 1 with strategyTitForTat lost with a score of 22444, and a scoring board: \n",
      "[3 3 0 ... 3 0 1]\n"
     ]
    },
    {
     "name": "stderr",
     "output_type": "stream",
     "text": [
      "\n"
     ]
    }
   ],
   "execution_count": 6
  },
  {
   "metadata": {},
   "cell_type": "code",
   "outputs": [],
   "execution_count": null,
   "source": "",
   "id": "701a83b419b62bc0"
  }
 ],
 "metadata": {
  "kernelspec": {
   "display_name": "Python 3",
   "language": "python",
   "name": "python3"
  },
  "language_info": {
   "codemirror_mode": {
    "name": "ipython",
    "version": 2
   },
   "file_extension": ".py",
   "mimetype": "text/x-python",
   "name": "python",
   "nbconvert_exporter": "python",
   "pygments_lexer": "ipython2",
   "version": "2.7.6"
  }
 },
 "nbformat": 4,
 "nbformat_minor": 5
}
